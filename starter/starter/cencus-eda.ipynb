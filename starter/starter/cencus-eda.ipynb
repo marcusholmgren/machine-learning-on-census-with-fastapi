{
  "cells":[
    {
      "cell_type":"markdown",
      "source":[
        "# Exploratory Data Analysis - Census Income Data Set\n",
        "\n",
        "Machine Learning Repository\n",
        "[Census Income Data Set](https:\/\/archive.ics.uci.edu\/ml\/datasets\/census+income)"
      ],
      "attachments":{
        
      },
      "metadata":{
        
      }
    },
    {
      "cell_type":"code",
      "source":[
        "import pandas as pd"
      ],
      "execution_count":1,
      "outputs":[
        
      ],
      "metadata":{
        
      }
    },
    {
      "cell_type":"markdown",
      "source":[
        "## Assess"
      ],
      "attachments":{
        
      },
      "metadata":{
        
      }
    },
    {
      "cell_type":"code",
      "source":[
        "census_df = pd.read_csv(\"data\/census.csv\")\n",
        "census_df.info()"
      ],
      "execution_count":2,
      "outputs":[
        {
          "name":"stdout",
          "text":[
            "<class 'pandas.core.frame.DataFrame'>\n",
            "RangeIndex: 32561 entries, 0 to 32560\n",
            "Data columns (total 15 columns):\n",
            " #   Column           Non-Null Count  Dtype \n",
            "---  ------           --------------  ----- \n",
            " 0   age              32561 non-null  int64 \n",
            " 1    workclass       32561 non-null  object\n",
            " 2    fnlgt           32561 non-null  int64 \n",
            " 3    education       32561 non-null  object\n",
            " 4    education-num   32561 non-null  int64 \n",
            " 5    marital-status  32561 non-null  object\n",
            " 6    occupation      32561 non-null  object\n",
            " 7    relationship    32561 non-null  object\n",
            " 8    race            32561 non-null  object\n",
            " 9    sex             32561 non-null  object\n",
            " 10   capital-gain    32561 non-null  int64 \n",
            " 11   capital-loss    32561 non-null  int64 \n",
            " 12   hours-per-week  32561 non-null  int64 \n",
            " 13   native-country  32561 non-null  object\n",
            " 14   salary          32561 non-null  object\n",
            "dtypes: int64(6), object(9)\n",
            "memory usage: 3.7+ MB\n"
          ],
          "output_type":"stream"
        }
      ],
      "metadata":{
        
      }
    },
    {
      "cell_type":"code",
      "source":[
        "census_df.isna().sum()"
      ],
      "execution_count":3,
      "outputs":[
        {
          "data":{
            "text\/html":[
              
            ]
          },
          "metadata":{
            
          },
          "output_type":"display_data"
        }
      ],
      "metadata":{
        
      }
    },
    {
      "cell_type":"code",
      "source":[
        "census_df.describe()"
      ],
      "execution_count":4,
      "outputs":[
        {
          "data":{
            "text\/html":[
              "<div>\n",
              "<style scoped>\n",
              "    .dataframe tbody tr th:only-of-type {\n",
              "        vertical-align: middle;\n",
              "    }\n",
              "\n",
              "    .dataframe tbody tr th {\n",
              "        vertical-align: top;\n",
              "    }\n",
              "\n",
              "    .dataframe thead th {\n",
              "        text-align: right;\n",
              "    }\n",
              "<\/style>\n",
              "<table border=\"1\" class=\"dataframe\">\n",
              "  <thead>\n",
              "    <tr style=\"text-align: right;\">\n",
              "      <th><\/th>\n",
              "      <th>age<\/th>\n",
              "      <th>fnlgt<\/th>\n",
              "      <th>education-num<\/th>\n",
              "      <th>capital-gain<\/th>\n",
              "      <th>capital-loss<\/th>\n",
              "      <th>hours-per-week<\/th>\n",
              "    <\/tr>\n",
              "  <\/thead>\n",
              "  <tbody>\n",
              "    <tr>\n",
              "      <th>count<\/th>\n",
              "      <td>32561.000000<\/td>\n",
              "      <td>3.256100e+04<\/td>\n",
              "      <td>32561.000000<\/td>\n",
              "      <td>32561.000000<\/td>\n",
              "      <td>32561.000000<\/td>\n",
              "      <td>32561.000000<\/td>\n",
              "    <\/tr>\n",
              "    <tr>\n",
              "      <th>mean<\/th>\n",
              "      <td>38.581647<\/td>\n",
              "      <td>1.897784e+05<\/td>\n",
              "      <td>10.080679<\/td>\n",
              "      <td>1077.648844<\/td>\n",
              "      <td>87.303830<\/td>\n",
              "      <td>40.437456<\/td>\n",
              "    <\/tr>\n",
              "    <tr>\n",
              "      <th>std<\/th>\n",
              "      <td>13.640433<\/td>\n",
              "      <td>1.055500e+05<\/td>\n",
              "      <td>2.572720<\/td>\n",
              "      <td>7385.292085<\/td>\n",
              "      <td>402.960219<\/td>\n",
              "      <td>12.347429<\/td>\n",
              "    <\/tr>\n",
              "    <tr>\n",
              "      <th>min<\/th>\n",
              "      <td>17.000000<\/td>\n",
              "      <td>1.228500e+04<\/td>\n",
              "      <td>1.000000<\/td>\n",
              "      <td>0.000000<\/td>\n",
              "      <td>0.000000<\/td>\n",
              "      <td>1.000000<\/td>\n",
              "    <\/tr>\n",
              "    <tr>\n",
              "      <th>25%<\/th>\n",
              "      <td>28.000000<\/td>\n",
              "      <td>1.178270e+05<\/td>\n",
              "      <td>9.000000<\/td>\n",
              "      <td>0.000000<\/td>\n",
              "      <td>0.000000<\/td>\n",
              "      <td>40.000000<\/td>\n",
              "    <\/tr>\n",
              "    <tr>\n",
              "      <th>50%<\/th>\n",
              "      <td>37.000000<\/td>\n",
              "      <td>1.783560e+05<\/td>\n",
              "      <td>10.000000<\/td>\n",
              "      <td>0.000000<\/td>\n",
              "      <td>0.000000<\/td>\n",
              "      <td>40.000000<\/td>\n",
              "    <\/tr>\n",
              "    <tr>\n",
              "      <th>75%<\/th>\n",
              "      <td>48.000000<\/td>\n",
              "      <td>2.370510e+05<\/td>\n",
              "      <td>12.000000<\/td>\n",
              "      <td>0.000000<\/td>\n",
              "      <td>0.000000<\/td>\n",
              "      <td>45.000000<\/td>\n",
              "    <\/tr>\n",
              "    <tr>\n",
              "      <th>max<\/th>\n",
              "      <td>90.000000<\/td>\n",
              "      <td>1.484705e+06<\/td>\n",
              "      <td>16.000000<\/td>\n",
              "      <td>99999.000000<\/td>\n",
              "      <td>4356.000000<\/td>\n",
              "      <td>99.000000<\/td>\n",
              "    <\/tr>\n",
              "  <\/tbody>\n",
              "<\/table>\n",
              "<\/div>"
            ]
          },
          "metadata":{
            
          },
          "output_type":"display_data"
        }
      ],
      "metadata":{
        
      }
    },
    {
      "cell_type":"markdown",
      "source":[
        "## Investigate non-numerical columns"
      ],
      "attachments":{
        
      },
      "metadata":{
        
      }
    },
    {
      "cell_type":"code",
      "source":[
        "obj_columns = [' workclass', ' education', ' marital-status', ' occupation', ' relationship', ' race', ' sex', ' native-country', ' salary']\n",
        "\n",
        "\n",
        "print(\"Number of unieuqe items:\")\n",
        "for col in obj_columns:\n",
        "    print(f\"{col}: {census_df[col].nunique()}\")\n",
        "    print('-'*20)"
      ],
      "execution_count":16,
      "outputs":[
        {
          "name":"stdout",
          "text":[
            "Number of unieuqe items:\n",
            " workclass: 9\n",
            "--------------------\n",
            " education: 16\n",
            "--------------------\n",
            " marital-status: 7\n",
            "--------------------\n",
            " occupation: 15\n",
            "--------------------\n",
            " relationship: 6\n",
            "--------------------\n",
            " race: 5\n",
            "--------------------\n",
            " sex: 2\n",
            "--------------------\n",
            " native-country: 42\n",
            "--------------------\n",
            " salary: 2\n",
            "--------------------\n"
          ],
          "output_type":"stream"
        }
      ],
      "metadata":{
        
      }
    },
    {
      "cell_type":"code",
      "source":[
        "census_df.head()"
      ],
      "execution_count":17,
      "outputs":[
        {
          "data":{
            "text\/html":[
              "<div>\n",
              "<style scoped>\n",
              "    .dataframe tbody tr th:only-of-type {\n",
              "        vertical-align: middle;\n",
              "    }\n",
              "\n",
              "    .dataframe tbody tr th {\n",
              "        vertical-align: top;\n",
              "    }\n",
              "\n",
              "    .dataframe thead th {\n",
              "        text-align: right;\n",
              "    }\n",
              "<\/style>\n",
              "<table border=\"1\" class=\"dataframe\">\n",
              "  <thead>\n",
              "    <tr style=\"text-align: right;\">\n",
              "      <th><\/th>\n",
              "      <th>age<\/th>\n",
              "      <th>workclass<\/th>\n",
              "      <th>fnlgt<\/th>\n",
              "      <th>education<\/th>\n",
              "      <th>education-num<\/th>\n",
              "      <th>marital-status<\/th>\n",
              "      <th>occupation<\/th>\n",
              "      <th>relationship<\/th>\n",
              "      <th>race<\/th>\n",
              "      <th>sex<\/th>\n",
              "      <th>capital-gain<\/th>\n",
              "      <th>capital-loss<\/th>\n",
              "      <th>hours-per-week<\/th>\n",
              "      <th>native-country<\/th>\n",
              "      <th>salary<\/th>\n",
              "    <\/tr>\n",
              "  <\/thead>\n",
              "  <tbody>\n",
              "    <tr>\n",
              "      <th>0<\/th>\n",
              "      <td>39<\/td>\n",
              "      <td>State-gov<\/td>\n",
              "      <td>77516<\/td>\n",
              "      <td>Bachelors<\/td>\n",
              "      <td>13<\/td>\n",
              "      <td>Never-married<\/td>\n",
              "      <td>Adm-clerical<\/td>\n",
              "      <td>Not-in-family<\/td>\n",
              "      <td>White<\/td>\n",
              "      <td>Male<\/td>\n",
              "      <td>2174<\/td>\n",
              "      <td>0<\/td>\n",
              "      <td>40<\/td>\n",
              "      <td>United-States<\/td>\n",
              "      <td>&lt;=50K<\/td>\n",
              "    <\/tr>\n",
              "    <tr>\n",
              "      <th>1<\/th>\n",
              "      <td>50<\/td>\n",
              "      <td>Self-emp-not-inc<\/td>\n",
              "      <td>83311<\/td>\n",
              "      <td>Bachelors<\/td>\n",
              "      <td>13<\/td>\n",
              "      <td>Married-civ-spouse<\/td>\n",
              "      <td>Exec-managerial<\/td>\n",
              "      <td>Husband<\/td>\n",
              "      <td>White<\/td>\n",
              "      <td>Male<\/td>\n",
              "      <td>0<\/td>\n",
              "      <td>0<\/td>\n",
              "      <td>13<\/td>\n",
              "      <td>United-States<\/td>\n",
              "      <td>&lt;=50K<\/td>\n",
              "    <\/tr>\n",
              "    <tr>\n",
              "      <th>2<\/th>\n",
              "      <td>38<\/td>\n",
              "      <td>Private<\/td>\n",
              "      <td>215646<\/td>\n",
              "      <td>HS-grad<\/td>\n",
              "      <td>9<\/td>\n",
              "      <td>Divorced<\/td>\n",
              "      <td>Handlers-cleaners<\/td>\n",
              "      <td>Not-in-family<\/td>\n",
              "      <td>White<\/td>\n",
              "      <td>Male<\/td>\n",
              "      <td>0<\/td>\n",
              "      <td>0<\/td>\n",
              "      <td>40<\/td>\n",
              "      <td>United-States<\/td>\n",
              "      <td>&lt;=50K<\/td>\n",
              "    <\/tr>\n",
              "    <tr>\n",
              "      <th>3<\/th>\n",
              "      <td>53<\/td>\n",
              "      <td>Private<\/td>\n",
              "      <td>234721<\/td>\n",
              "      <td>11th<\/td>\n",
              "      <td>7<\/td>\n",
              "      <td>Married-civ-spouse<\/td>\n",
              "      <td>Handlers-cleaners<\/td>\n",
              "      <td>Husband<\/td>\n",
              "      <td>Black<\/td>\n",
              "      <td>Male<\/td>\n",
              "      <td>0<\/td>\n",
              "      <td>0<\/td>\n",
              "      <td>40<\/td>\n",
              "      <td>United-States<\/td>\n",
              "      <td>&lt;=50K<\/td>\n",
              "    <\/tr>\n",
              "    <tr>\n",
              "      <th>4<\/th>\n",
              "      <td>28<\/td>\n",
              "      <td>Private<\/td>\n",
              "      <td>338409<\/td>\n",
              "      <td>Bachelors<\/td>\n",
              "      <td>13<\/td>\n",
              "      <td>Married-civ-spouse<\/td>\n",
              "      <td>Prof-specialty<\/td>\n",
              "      <td>Wife<\/td>\n",
              "      <td>Black<\/td>\n",
              "      <td>Female<\/td>\n",
              "      <td>0<\/td>\n",
              "      <td>0<\/td>\n",
              "      <td>40<\/td>\n",
              "      <td>Cuba<\/td>\n",
              "      <td>&lt;=50K<\/td>\n",
              "    <\/tr>\n",
              "  <\/tbody>\n",
              "<\/table>\n",
              "<\/div>"
            ]
          },
          "metadata":{
            
          },
          "output_type":"display_data"
        }
      ],
      "metadata":{
        
      }
    },
    {
      "cell_type":"code",
      "source":[
        "census_df.tail()"
      ],
      "execution_count":18,
      "outputs":[
        {
          "data":{
            "text\/html":[
              "<div>\n",
              "<style scoped>\n",
              "    .dataframe tbody tr th:only-of-type {\n",
              "        vertical-align: middle;\n",
              "    }\n",
              "\n",
              "    .dataframe tbody tr th {\n",
              "        vertical-align: top;\n",
              "    }\n",
              "\n",
              "    .dataframe thead th {\n",
              "        text-align: right;\n",
              "    }\n",
              "<\/style>\n",
              "<table border=\"1\" class=\"dataframe\">\n",
              "  <thead>\n",
              "    <tr style=\"text-align: right;\">\n",
              "      <th><\/th>\n",
              "      <th>age<\/th>\n",
              "      <th>workclass<\/th>\n",
              "      <th>fnlgt<\/th>\n",
              "      <th>education<\/th>\n",
              "      <th>education-num<\/th>\n",
              "      <th>marital-status<\/th>\n",
              "      <th>occupation<\/th>\n",
              "      <th>relationship<\/th>\n",
              "      <th>race<\/th>\n",
              "      <th>sex<\/th>\n",
              "      <th>capital-gain<\/th>\n",
              "      <th>capital-loss<\/th>\n",
              "      <th>hours-per-week<\/th>\n",
              "      <th>native-country<\/th>\n",
              "      <th>salary<\/th>\n",
              "    <\/tr>\n",
              "  <\/thead>\n",
              "  <tbody>\n",
              "    <tr>\n",
              "      <th>32556<\/th>\n",
              "      <td>27<\/td>\n",
              "      <td>Private<\/td>\n",
              "      <td>257302<\/td>\n",
              "      <td>Assoc-acdm<\/td>\n",
              "      <td>12<\/td>\n",
              "      <td>Married-civ-spouse<\/td>\n",
              "      <td>Tech-support<\/td>\n",
              "      <td>Wife<\/td>\n",
              "      <td>White<\/td>\n",
              "      <td>Female<\/td>\n",
              "      <td>0<\/td>\n",
              "      <td>0<\/td>\n",
              "      <td>38<\/td>\n",
              "      <td>United-States<\/td>\n",
              "      <td>&lt;=50K<\/td>\n",
              "    <\/tr>\n",
              "    <tr>\n",
              "      <th>32557<\/th>\n",
              "      <td>40<\/td>\n",
              "      <td>Private<\/td>\n",
              "      <td>154374<\/td>\n",
              "      <td>HS-grad<\/td>\n",
              "      <td>9<\/td>\n",
              "      <td>Married-civ-spouse<\/td>\n",
              "      <td>Machine-op-inspct<\/td>\n",
              "      <td>Husband<\/td>\n",
              "      <td>White<\/td>\n",
              "      <td>Male<\/td>\n",
              "      <td>0<\/td>\n",
              "      <td>0<\/td>\n",
              "      <td>40<\/td>\n",
              "      <td>United-States<\/td>\n",
              "      <td>&gt;50K<\/td>\n",
              "    <\/tr>\n",
              "    <tr>\n",
              "      <th>32558<\/th>\n",
              "      <td>58<\/td>\n",
              "      <td>Private<\/td>\n",
              "      <td>151910<\/td>\n",
              "      <td>HS-grad<\/td>\n",
              "      <td>9<\/td>\n",
              "      <td>Widowed<\/td>\n",
              "      <td>Adm-clerical<\/td>\n",
              "      <td>Unmarried<\/td>\n",
              "      <td>White<\/td>\n",
              "      <td>Female<\/td>\n",
              "      <td>0<\/td>\n",
              "      <td>0<\/td>\n",
              "      <td>40<\/td>\n",
              "      <td>United-States<\/td>\n",
              "      <td>&lt;=50K<\/td>\n",
              "    <\/tr>\n",
              "    <tr>\n",
              "      <th>32559<\/th>\n",
              "      <td>22<\/td>\n",
              "      <td>Private<\/td>\n",
              "      <td>201490<\/td>\n",
              "      <td>HS-grad<\/td>\n",
              "      <td>9<\/td>\n",
              "      <td>Never-married<\/td>\n",
              "      <td>Adm-clerical<\/td>\n",
              "      <td>Own-child<\/td>\n",
              "      <td>White<\/td>\n",
              "      <td>Male<\/td>\n",
              "      <td>0<\/td>\n",
              "      <td>0<\/td>\n",
              "      <td>20<\/td>\n",
              "      <td>United-States<\/td>\n",
              "      <td>&lt;=50K<\/td>\n",
              "    <\/tr>\n",
              "    <tr>\n",
              "      <th>32560<\/th>\n",
              "      <td>52<\/td>\n",
              "      <td>Self-emp-inc<\/td>\n",
              "      <td>287927<\/td>\n",
              "      <td>HS-grad<\/td>\n",
              "      <td>9<\/td>\n",
              "      <td>Married-civ-spouse<\/td>\n",
              "      <td>Exec-managerial<\/td>\n",
              "      <td>Wife<\/td>\n",
              "      <td>White<\/td>\n",
              "      <td>Female<\/td>\n",
              "      <td>15024<\/td>\n",
              "      <td>0<\/td>\n",
              "      <td>40<\/td>\n",
              "      <td>United-States<\/td>\n",
              "      <td>&gt;50K<\/td>\n",
              "    <\/tr>\n",
              "  <\/tbody>\n",
              "<\/table>\n",
              "<\/div>"
            ]
          },
          "metadata":{
            
          },
          "output_type":"display_data"
        }
      ],
      "metadata":{
        
      }
    },
    {
      "cell_type":"markdown",
      "source":[
        "## Identified issues\n",
        "\n",
        "* column names have extra whitespaces that should be cleaned up"
      ],
      "attachments":{
        
      },
      "metadata":{
        
      }
    },
    {
      "cell_type":"code",
      "source":[
        "census_df.columns = [col.strip() for col in census_df.columns]"
      ],
      "execution_count":21,
      "outputs":[
        {
          "data":{
            "text\/plain":[
              "['age',\n",
              " 'workclass',\n",
              " 'fnlgt',\n",
              " 'education',\n",
              " 'education-num',\n",
              " 'marital-status',\n",
              " 'occupation',\n",
              " 'relationship',\n",
              " 'race',\n",
              " 'sex',\n",
              " 'capital-gain',\n",
              " 'capital-loss',\n",
              " 'hours-per-week',\n",
              " 'native-country',\n",
              " 'salary']"
            ]
          },
          "metadata":{
            
          },
          "output_type":"display_data"
        }
      ],
      "metadata":{
        
      }
    }
  ],
  "metadata":{
    
  },
  "nbformat":4,
  "nbformat_minor":0
}